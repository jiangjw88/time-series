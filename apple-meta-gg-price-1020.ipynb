{
 "cells": [
  {
   "cell_type": "code",
   "execution_count": 1,
   "id": "fc35b890",
   "metadata": {
    "_cell_guid": "b1076dfc-b9ad-4769-8c92-a6c4dae69d19",
    "_uuid": "8f2839f25d086af736a60e9eeb907d3b93b6e0e5",
    "execution": {
     "iopub.execute_input": "2022-10-20T11:23:22.735101Z",
     "iopub.status.busy": "2022-10-20T11:23:22.734113Z",
     "iopub.status.idle": "2022-10-20T11:23:22.757882Z",
     "shell.execute_reply": "2022-10-20T11:23:22.756630Z"
    },
    "papermill": {
     "duration": 0.032396,
     "end_time": "2022-10-20T11:23:22.761230",
     "exception": false,
     "start_time": "2022-10-20T11:23:22.728834",
     "status": "completed"
    },
    "tags": []
   },
   "outputs": [
    {
     "name": "stdout",
     "output_type": "stream",
     "text": [
      "/kaggle/input/apple-stock-price-from-19802021/AAPL.csv\n",
      "/kaggle/input/google-apple-facebook-stock-price/AAPL.csv\n",
      "/kaggle/input/google-apple-facebook-stock-price/GOOG.csv\n",
      "/kaggle/input/google-apple-facebook-stock-price/META.csv\n"
     ]
    }
   ],
   "source": [
    "# This Python 3 environment comes with many helpful analytics libraries installed\n",
    "# It is defined by the kaggle/python Docker image: https://github.com/kaggle/docker-python\n",
    "# For example, here's several helpful packages to load\n",
    "\n",
    "import numpy as np # linear algebra\n",
    "import pandas as pd # data processing, CSV file I/O (e.g. pd.read_csv)\n",
    "\n",
    "# Input data files are available in the read-only \"../input/\" directory\n",
    "# For example, running this (by clicking run or pressing Shift+Enter) will list all files under the input directory\n",
    "\n",
    "import os\n",
    "for dirname, _, filenames in os.walk('/kaggle/input'):\n",
    "    for filename in filenames:\n",
    "        print(os.path.join(dirname, filename))\n",
    "\n",
    "# You can write up to 20GB to the current directory (/kaggle/working/) that gets preserved as output when you create a version using \"Save & Run All\" \n",
    "# You can also write temporary files to /kaggle/temp/, but they won't be saved outside of the current session"
   ]
  },
  {
   "cell_type": "code",
   "execution_count": 2,
   "id": "88ada570",
   "metadata": {
    "execution": {
     "iopub.execute_input": "2022-10-20T11:23:22.768779Z",
     "iopub.status.busy": "2022-10-20T11:23:22.767626Z",
     "iopub.status.idle": "2022-10-20T11:23:22.854595Z",
     "shell.execute_reply": "2022-10-20T11:23:22.853552Z"
    },
    "papermill": {
     "duration": 0.093487,
     "end_time": "2022-10-20T11:23:22.857412",
     "exception": false,
     "start_time": "2022-10-20T11:23:22.763925",
     "status": "completed"
    },
    "tags": []
   },
   "outputs": [],
   "source": [
    "apple = pd.read_csv('../input/apple-stock-price-from-19802021/AAPL.csv')\n",
    "google = pd.read_csv('../input/google-apple-facebook-stock-price/GOOG.csv')\n",
    "meta = pd.read_csv('../input/google-apple-facebook-stock-price/META.csv')\n",
    "\n",
    "apple = apple[(apple['Date']>'2021-01-01')&(apple['Date']<='2021-12-31')][['Date','Adj Close']]\n",
    "apple.columns = ['Date', 'Apple']\n",
    "\n",
    "google = google[(google['Date']>'2021-01-01')&(google['Date']<='2021-12-31')][['Date','Adj Close']]\n",
    "google.columns = ['Date', 'Google']\n",
    "\n",
    "meta = meta[(meta['Date']>'2021-01-01')&(meta['Date']<='2021-12-31')][['Date','Adj Close']]\n",
    "meta.columns = ['Date', 'Meta']\n",
    "\n",
    "merge = pd.merge(apple, google, how='outer', on='Date')\n",
    "merge = pd.merge(merge, meta, how='outer', on='Date')"
   ]
  },
  {
   "cell_type": "code",
   "execution_count": 3,
   "id": "6a463e26",
   "metadata": {
    "execution": {
     "iopub.execute_input": "2022-10-20T11:23:22.864570Z",
     "iopub.status.busy": "2022-10-20T11:23:22.863549Z",
     "iopub.status.idle": "2022-10-20T11:23:22.893832Z",
     "shell.execute_reply": "2022-10-20T11:23:22.892423Z"
    },
    "papermill": {
     "duration": 0.037124,
     "end_time": "2022-10-20T11:23:22.897030",
     "exception": false,
     "start_time": "2022-10-20T11:23:22.859906",
     "status": "completed"
    },
    "tags": []
   },
   "outputs": [
    {
     "data": {
      "text/html": [
       "<div>\n",
       "<style scoped>\n",
       "    .dataframe tbody tr th:only-of-type {\n",
       "        vertical-align: middle;\n",
       "    }\n",
       "\n",
       "    .dataframe tbody tr th {\n",
       "        vertical-align: top;\n",
       "    }\n",
       "\n",
       "    .dataframe thead th {\n",
       "        text-align: right;\n",
       "    }\n",
       "</style>\n",
       "<table border=\"1\" class=\"dataframe\">\n",
       "  <thead>\n",
       "    <tr style=\"text-align: right;\">\n",
       "      <th></th>\n",
       "      <th>Date</th>\n",
       "      <th>Apple</th>\n",
       "      <th>Google</th>\n",
       "      <th>Meta</th>\n",
       "    </tr>\n",
       "  </thead>\n",
       "  <tbody>\n",
       "    <tr>\n",
       "      <th>0</th>\n",
       "      <td>2021-01-04</td>\n",
       "      <td>128.264999</td>\n",
       "      <td>86.412003</td>\n",
       "      <td>268.940002</td>\n",
       "    </tr>\n",
       "    <tr>\n",
       "      <th>1</th>\n",
       "      <td>2021-01-05</td>\n",
       "      <td>129.850845</td>\n",
       "      <td>87.045998</td>\n",
       "      <td>270.970001</td>\n",
       "    </tr>\n",
       "    <tr>\n",
       "      <th>2</th>\n",
       "      <td>2021-01-06</td>\n",
       "      <td>125.479851</td>\n",
       "      <td>86.764503</td>\n",
       "      <td>263.309998</td>\n",
       "    </tr>\n",
       "    <tr>\n",
       "      <th>3</th>\n",
       "      <td>2021-01-07</td>\n",
       "      <td>129.761627</td>\n",
       "      <td>89.362503</td>\n",
       "      <td>268.739990</td>\n",
       "    </tr>\n",
       "    <tr>\n",
       "      <th>4</th>\n",
       "      <td>2021-01-08</td>\n",
       "      <td>130.881622</td>\n",
       "      <td>90.360497</td>\n",
       "      <td>267.570007</td>\n",
       "    </tr>\n",
       "    <tr>\n",
       "      <th>...</th>\n",
       "      <td>...</td>\n",
       "      <td>...</td>\n",
       "      <td>...</td>\n",
       "      <td>...</td>\n",
       "    </tr>\n",
       "    <tr>\n",
       "      <th>247</th>\n",
       "      <td>2021-12-27</td>\n",
       "      <td>179.836319</td>\n",
       "      <td>148.063995</td>\n",
       "      <td>346.179993</td>\n",
       "    </tr>\n",
       "    <tr>\n",
       "      <th>248</th>\n",
       "      <td>2021-12-28</td>\n",
       "      <td>178.799149</td>\n",
       "      <td>146.447998</td>\n",
       "      <td>346.220001</td>\n",
       "    </tr>\n",
       "    <tr>\n",
       "      <th>249</th>\n",
       "      <td>2021-12-29</td>\n",
       "      <td>178.888916</td>\n",
       "      <td>146.504501</td>\n",
       "      <td>342.940002</td>\n",
       "    </tr>\n",
       "    <tr>\n",
       "      <th>250</th>\n",
       "      <td>2021-12-30</td>\n",
       "      <td>177.712143</td>\n",
       "      <td>146.002502</td>\n",
       "      <td>344.359985</td>\n",
       "    </tr>\n",
       "    <tr>\n",
       "      <th>251</th>\n",
       "      <td>2021-12-31</td>\n",
       "      <td>177.083878</td>\n",
       "      <td>144.679504</td>\n",
       "      <td>336.350006</td>\n",
       "    </tr>\n",
       "  </tbody>\n",
       "</table>\n",
       "<p>252 rows × 4 columns</p>\n",
       "</div>"
      ],
      "text/plain": [
       "           Date       Apple      Google        Meta\n",
       "0    2021-01-04  128.264999   86.412003  268.940002\n",
       "1    2021-01-05  129.850845   87.045998  270.970001\n",
       "2    2021-01-06  125.479851   86.764503  263.309998\n",
       "3    2021-01-07  129.761627   89.362503  268.739990\n",
       "4    2021-01-08  130.881622   90.360497  267.570007\n",
       "..          ...         ...         ...         ...\n",
       "247  2021-12-27  179.836319  148.063995  346.179993\n",
       "248  2021-12-28  178.799149  146.447998  346.220001\n",
       "249  2021-12-29  178.888916  146.504501  342.940002\n",
       "250  2021-12-30  177.712143  146.002502  344.359985\n",
       "251  2021-12-31  177.083878  144.679504  336.350006\n",
       "\n",
       "[252 rows x 4 columns]"
      ]
     },
     "execution_count": 3,
     "metadata": {},
     "output_type": "execute_result"
    }
   ],
   "source": [
    "merge"
   ]
  },
  {
   "cell_type": "code",
   "execution_count": 4,
   "id": "27789b42",
   "metadata": {
    "execution": {
     "iopub.execute_input": "2022-10-20T11:23:22.904152Z",
     "iopub.status.busy": "2022-10-20T11:23:22.903734Z",
     "iopub.status.idle": "2022-10-20T11:23:22.913854Z",
     "shell.execute_reply": "2022-10-20T11:23:22.912607Z"
    },
    "papermill": {
     "duration": 0.016643,
     "end_time": "2022-10-20T11:23:22.916406",
     "exception": false,
     "start_time": "2022-10-20T11:23:22.899763",
     "status": "completed"
    },
    "tags": []
   },
   "outputs": [
    {
     "data": {
      "text/plain": [
       "Date      0\n",
       "Apple     0\n",
       "Google    0\n",
       "Meta      0\n",
       "dtype: int64"
      ]
     },
     "execution_count": 4,
     "metadata": {},
     "output_type": "execute_result"
    }
   ],
   "source": [
    "merge.isnull().sum()"
   ]
  },
  {
   "cell_type": "code",
   "execution_count": null,
   "id": "5de52920",
   "metadata": {
    "papermill": {
     "duration": 0.002515,
     "end_time": "2022-10-20T11:23:22.921770",
     "exception": false,
     "start_time": "2022-10-20T11:23:22.919255",
     "status": "completed"
    },
    "tags": []
   },
   "outputs": [],
   "source": []
  }
 ],
 "metadata": {
  "kernelspec": {
   "display_name": "Python 3",
   "language": "python",
   "name": "python3"
  },
  "language_info": {
   "codemirror_mode": {
    "name": "ipython",
    "version": 3
   },
   "file_extension": ".py",
   "mimetype": "text/x-python",
   "name": "python",
   "nbconvert_exporter": "python",
   "pygments_lexer": "ipython3",
   "version": "3.7.12"
  },
  "papermill": {
   "default_parameters": {},
   "duration": 10.723898,
   "end_time": "2022-10-20T11:23:23.646067",
   "environment_variables": {},
   "exception": null,
   "input_path": "__notebook__.ipynb",
   "output_path": "__notebook__.ipynb",
   "parameters": {},
   "start_time": "2022-10-20T11:23:12.922169",
   "version": "2.3.4"
  }
 },
 "nbformat": 4,
 "nbformat_minor": 5
}
