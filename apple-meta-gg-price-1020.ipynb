{
 "cells": [
  {
   "cell_type": "code",
   "execution_count": 1,
   "id": "2faeb723",
   "metadata": {
    "_cell_guid": "b1076dfc-b9ad-4769-8c92-a6c4dae69d19",
    "_uuid": "8f2839f25d086af736a60e9eeb907d3b93b6e0e5",
    "execution": {
     "iopub.execute_input": "2022-10-20T15:55:55.627279Z",
     "iopub.status.busy": "2022-10-20T15:55:55.626639Z",
     "iopub.status.idle": "2022-10-20T15:55:57.662135Z",
     "shell.execute_reply": "2022-10-20T15:55:57.660567Z"
    },
    "papermill": {
     "duration": 2.043988,
     "end_time": "2022-10-20T15:55:57.665326",
     "exception": false,
     "start_time": "2022-10-20T15:55:55.621338",
     "status": "completed"
    },
    "tags": []
   },
   "outputs": [
    {
     "name": "stdout",
     "output_type": "stream",
     "text": [
      "/kaggle/input/google-apple-facebook-stock-price/AAPL.csv\n",
      "/kaggle/input/google-apple-facebook-stock-price/GOOG.csv\n",
      "/kaggle/input/google-apple-facebook-stock-price/META.csv\n"
     ]
    },
    {
     "data": {
      "text/html": [
       "<style type='text/css'>\n",
       ".datatable table.frame { margin-bottom: 0; }\n",
       ".datatable table.frame thead { border-bottom: none; }\n",
       ".datatable table.frame tr.coltypes td {  color: #FFFFFF;  line-height: 6px;  padding: 0 0.5em;}\n",
       ".datatable .bool    { background: #DDDD99; }\n",
       ".datatable .object  { background: #565656; }\n",
       ".datatable .int     { background: #5D9E5D; }\n",
       ".datatable .float   { background: #4040CC; }\n",
       ".datatable .str     { background: #CC4040; }\n",
       ".datatable .time    { background: #40CC40; }\n",
       ".datatable .row_index {  background: var(--jp-border-color3);  border-right: 1px solid var(--jp-border-color0);  color: var(--jp-ui-font-color3);  font-size: 9px;}\n",
       ".datatable .frame tbody td { text-align: left; }\n",
       ".datatable .frame tr.coltypes .row_index {  background: var(--jp-border-color0);}\n",
       ".datatable th:nth-child(2) { padding-left: 12px; }\n",
       ".datatable .hellipsis {  color: var(--jp-cell-editor-border-color);}\n",
       ".datatable .vellipsis {  background: var(--jp-layout-color0);  color: var(--jp-cell-editor-border-color);}\n",
       ".datatable .na {  color: var(--jp-cell-editor-border-color);  font-size: 80%;}\n",
       ".datatable .sp {  opacity: 0.25;}\n",
       ".datatable .footer { font-size: 9px; }\n",
       ".datatable .frame_dimensions {  background: var(--jp-border-color3);  border-top: 1px solid var(--jp-border-color0);  color: var(--jp-ui-font-color3);  display: inline-block;  opacity: 0.6;  padding: 1px 10px 1px 5px;}\n",
       "</style>\n"
      ],
      "text/plain": [
       "<IPython.core.display.HTML object>"
      ]
     },
     "metadata": {},
     "output_type": "display_data"
    }
   ],
   "source": [
    "# This Python 3 environment comes with many helpful analytics libraries installed\n",
    "# It is defined by the kaggle/python Docker image: https://github.com/kaggle/docker-python\n",
    "# For example, here's several helpful packages to load\n",
    "\n",
    "import numpy as np # linear algebra\n",
    "import pandas as pd # data processing, CSV file I/O (e.g. pd.read_csv)\n",
    "\n",
    "# Input data files are available in the read-only \"../input/\" directory\n",
    "# For example, running this (by clicking run or pressing Shift+Enter) will list all files under the input directory\n",
    "\n",
    "import os\n",
    "for dirname, _, filenames in os.walk('/kaggle/input'):\n",
    "    for filename in filenames:\n",
    "        print(os.path.join(dirname, filename))\n",
    "from sklearn.metrics import mean_squared_error\n",
    "import lightgbm\n",
    "\n",
    "# You can write up to 20GB to the current directory (/kaggle/working/) that gets preserved as output when you create a version using \"Save & Run All\" \n",
    "# You can also write temporary files to /kaggle/temp/, but they won't be saved outside of the current session"
   ]
  },
  {
   "cell_type": "code",
   "execution_count": 2,
   "id": "113d109a",
   "metadata": {
    "execution": {
     "iopub.execute_input": "2022-10-20T15:55:57.673848Z",
     "iopub.status.busy": "2022-10-20T15:55:57.672744Z",
     "iopub.status.idle": "2022-10-20T15:55:57.750395Z",
     "shell.execute_reply": "2022-10-20T15:55:57.748841Z"
    },
    "papermill": {
     "duration": 0.084269,
     "end_time": "2022-10-20T15:55:57.753036",
     "exception": false,
     "start_time": "2022-10-20T15:55:57.668767",
     "status": "completed"
    },
    "tags": []
   },
   "outputs": [],
   "source": [
    "apple = pd.read_csv('../input/google-apple-facebook-stock-price/AAPL.csv')\n",
    "google = pd.read_csv('../input/google-apple-facebook-stock-price/GOOG.csv')\n",
    "meta = pd.read_csv('../input/google-apple-facebook-stock-price/META.csv')\n",
    "\n",
    "apple = apple[(apple['Date']>'2021-01-01')&(apple['Date']<='2021-12-31')][['Date','Adj Close']]\n",
    "apple.columns = ['Date', 'Apple']\n",
    "google = google[(google['Date']>'2021-01-01')&(google['Date']<='2021-12-31')][['Date','Adj Close']]\n",
    "google.columns = ['Date', 'Google']\n",
    "meta = meta[(meta['Date']>'2021-01-01')&(meta['Date']<='2021-12-31')][['Date','Adj Close']]\n",
    "meta.columns = ['Date', 'Meta']\n",
    "\n",
    "merge = pd.merge(apple, google, how='outer', on='Date')\n",
    "merge = pd.merge(merge, meta, how='outer', on='Date')\n",
    "\n",
    "tmp = merge.copy()\n",
    "tmp.set_index('Date', inplace=True)\n",
    "tmp=tmp.stack()\n",
    "\n",
    "tmp_df = pd.DataFrame(tmp)\n",
    "tmp_df.reset_index(inplace=True)\n",
    "tmp_df.columns = ['Date', 'Name', 'Price']\n",
    "tmp_df = tmp_df.set_index(['Date', 'Name'])"
   ]
  },
  {
   "cell_type": "code",
   "execution_count": 3,
   "id": "5491a92c",
   "metadata": {
    "execution": {
     "iopub.execute_input": "2022-10-20T15:55:57.761466Z",
     "iopub.status.busy": "2022-10-20T15:55:57.760180Z",
     "iopub.status.idle": "2022-10-20T15:55:57.799282Z",
     "shell.execute_reply": "2022-10-20T15:55:57.798008Z"
    },
    "papermill": {
     "duration": 0.045196,
     "end_time": "2022-10-20T15:55:57.801361",
     "exception": false,
     "start_time": "2022-10-20T15:55:57.756165",
     "status": "completed"
    },
    "tags": []
   },
   "outputs": [
    {
     "data": {
      "text/html": [
       "<div>\n",
       "<style scoped>\n",
       "    .dataframe tbody tr th:only-of-type {\n",
       "        vertical-align: middle;\n",
       "    }\n",
       "\n",
       "    .dataframe tbody tr th {\n",
       "        vertical-align: top;\n",
       "    }\n",
       "\n",
       "    .dataframe thead th {\n",
       "        text-align: right;\n",
       "    }\n",
       "</style>\n",
       "<table border=\"1\" class=\"dataframe\">\n",
       "  <thead>\n",
       "    <tr style=\"text-align: right;\">\n",
       "      <th></th>\n",
       "      <th>Date</th>\n",
       "      <th>Name</th>\n",
       "      <th>Price</th>\n",
       "      <th>Shift22</th>\n",
       "      <th>MA22</th>\n",
       "    </tr>\n",
       "  </thead>\n",
       "  <tbody>\n",
       "    <tr>\n",
       "      <th>0</th>\n",
       "      <td>2021-03-08</td>\n",
       "      <td>Apple</td>\n",
       "      <td>115.342575</td>\n",
       "      <td>132.570770</td>\n",
       "      <td>131.854972</td>\n",
       "    </tr>\n",
       "    <tr>\n",
       "      <th>1</th>\n",
       "      <td>2021-03-08</td>\n",
       "      <td>Google</td>\n",
       "      <td>101.208504</td>\n",
       "      <td>103.503502</td>\n",
       "      <td>91.495955</td>\n",
       "    </tr>\n",
       "    <tr>\n",
       "      <th>2</th>\n",
       "      <td>2021-03-08</td>\n",
       "      <td>Meta</td>\n",
       "      <td>255.309998</td>\n",
       "      <td>266.649994</td>\n",
       "      <td>264.696363</td>\n",
       "    </tr>\n",
       "    <tr>\n",
       "      <th>3</th>\n",
       "      <td>2021-03-09</td>\n",
       "      <td>Apple</td>\n",
       "      <td>120.031227</td>\n",
       "      <td>135.985489</td>\n",
       "      <td>132.213991</td>\n",
       "    </tr>\n",
       "    <tr>\n",
       "      <th>4</th>\n",
       "      <td>2021-03-09</td>\n",
       "      <td>Google</td>\n",
       "      <td>102.635002</td>\n",
       "      <td>103.118500</td>\n",
       "      <td>92.255341</td>\n",
       "    </tr>\n",
       "    <tr>\n",
       "      <th>...</th>\n",
       "      <td>...</td>\n",
       "      <td>...</td>\n",
       "      <td>...</td>\n",
       "      <td>...</td>\n",
       "      <td>...</td>\n",
       "    </tr>\n",
       "    <tr>\n",
       "      <th>622</th>\n",
       "      <td>2021-12-30</td>\n",
       "      <td>Google</td>\n",
       "      <td>146.002502</td>\n",
       "      <td>146.113998</td>\n",
       "      <td>147.637750</td>\n",
       "    </tr>\n",
       "    <tr>\n",
       "      <th>623</th>\n",
       "      <td>2021-12-30</td>\n",
       "      <td>Meta</td>\n",
       "      <td>344.359985</td>\n",
       "      <td>338.029999</td>\n",
       "      <td>335.598182</td>\n",
       "    </tr>\n",
       "    <tr>\n",
       "      <th>624</th>\n",
       "      <td>2021-12-31</td>\n",
       "      <td>Apple</td>\n",
       "      <td>176.838257</td>\n",
       "      <td>164.618805</td>\n",
       "      <td>153.368775</td>\n",
       "    </tr>\n",
       "    <tr>\n",
       "      <th>625</th>\n",
       "      <td>2021-12-31</td>\n",
       "      <td>Google</td>\n",
       "      <td>144.679504</td>\n",
       "      <td>142.451996</td>\n",
       "      <td>147.470614</td>\n",
       "    </tr>\n",
       "    <tr>\n",
       "      <th>626</th>\n",
       "      <td>2021-12-31</td>\n",
       "      <td>Meta</td>\n",
       "      <td>336.350006</td>\n",
       "      <td>324.459991</td>\n",
       "      <td>335.940908</td>\n",
       "    </tr>\n",
       "  </tbody>\n",
       "</table>\n",
       "<p>627 rows × 5 columns</p>\n",
       "</div>"
      ],
      "text/plain": [
       "           Date    Name       Price     Shift22        MA22\n",
       "0    2021-03-08   Apple  115.342575  132.570770  131.854972\n",
       "1    2021-03-08  Google  101.208504  103.503502   91.495955\n",
       "2    2021-03-08    Meta  255.309998  266.649994  264.696363\n",
       "3    2021-03-09   Apple  120.031227  135.985489  132.213991\n",
       "4    2021-03-09  Google  102.635002  103.118500   92.255341\n",
       "..          ...     ...         ...         ...         ...\n",
       "622  2021-12-30  Google  146.002502  146.113998  147.637750\n",
       "623  2021-12-30    Meta  344.359985  338.029999  335.598182\n",
       "624  2021-12-31   Apple  176.838257  164.618805  153.368775\n",
       "625  2021-12-31  Google  144.679504  142.451996  147.470614\n",
       "626  2021-12-31    Meta  336.350006  324.459991  335.940908\n",
       "\n",
       "[627 rows x 5 columns]"
      ]
     },
     "execution_count": 3,
     "metadata": {},
     "output_type": "execute_result"
    }
   ],
   "source": [
    "df = tmp_df.copy()\n",
    "\n",
    "df = df.unstack().shift(22)\n",
    "df = df.stack(dropna=False)\n",
    "tmp_df['Shift22'] = df['Price']\n",
    "\n",
    "df = df.unstack().rolling(22).mean()\n",
    "df = df.stack(dropna=False)\n",
    "tmp_df['MA22'] = df['Price']\n",
    "\n",
    "tmp_df.dropna(inplace=True)\n",
    "tmp_df.reset_index(inplace=True)\n",
    "tmp_df"
   ]
  },
  {
   "cell_type": "markdown",
   "id": "283a4f1f",
   "metadata": {
    "papermill": {
     "duration": 0.002767,
     "end_time": "2022-10-20T15:55:57.807346",
     "exception": false,
     "start_time": "2022-10-20T15:55:57.804579",
     "status": "completed"
    },
    "tags": []
   },
   "source": [
    "### グループごとにモデルを評価"
   ]
  },
  {
   "cell_type": "code",
   "execution_count": 4,
   "id": "34760738",
   "metadata": {
    "execution": {
     "iopub.execute_input": "2022-10-20T15:55:57.814929Z",
     "iopub.status.busy": "2022-10-20T15:55:57.814555Z",
     "iopub.status.idle": "2022-10-20T15:55:57.824985Z",
     "shell.execute_reply": "2022-10-20T15:55:57.823748Z"
    },
    "papermill": {
     "duration": 0.017324,
     "end_time": "2022-10-20T15:55:57.827600",
     "exception": false,
     "start_time": "2022-10-20T15:55:57.810276",
     "status": "completed"
    },
    "tags": []
   },
   "outputs": [],
   "source": [
    "def model_evaluation(data, name_list, model):\n",
    "    \n",
    "    mape_ls, rmse_ls, pred_ls = [], [], []\n",
    "    \n",
    "    for name in name_list:\n",
    "        # 銘柄指定\n",
    "        df = data[data['Name']==name]\n",
    "        # test/train split\n",
    "        train_df, test_df = df[:-pred_len], df[-pred_len:]\n",
    "        # X/y split\n",
    "        X = train_df.drop(['Date', 'Name', 'Price'], axis=1)\n",
    "        y = train_df['Price']\n",
    "        X_test = test_df.drop(['Date', 'Name', 'Price'], axis=1)\n",
    "        y_test = test_df['Price']\n",
    "        # model fit\n",
    "        model.fit(X, y)\n",
    "        y_pred = model.predict(X_test)\n",
    "        # put result into pred_df\n",
    "        pred_df = y_test.copy()\n",
    "        pred_df['Price'] = y_pred\n",
    "        # for output easier\n",
    "        pred_ls.append(pred_df)\n",
    "        # validation\n",
    "        mape = np.mean(np.abs( (y_pred-y_test)/y_test ))*100\n",
    "        rmse = np.sqrt( mean_squared_error(y_pred, y_test))\n",
    "        mape_ls.append(mape)\n",
    "        rmse_ls.append(rmse)\n",
    "        # print every training result\n",
    "        print('MAPE:',mape, 'RMSE:',rmse)\n",
    "    # print average of all results\n",
    "    print('Ave MAPE:',np.mean(mape_ls), 'Ave RMSE:', np.mean(rmse_ls))\n",
    "    return pred_ls, mape_ls, rmse_ls"
   ]
  },
  {
   "cell_type": "code",
   "execution_count": 5,
   "id": "17c07614",
   "metadata": {
    "execution": {
     "iopub.execute_input": "2022-10-20T15:55:57.835849Z",
     "iopub.status.busy": "2022-10-20T15:55:57.835474Z",
     "iopub.status.idle": "2022-10-20T15:55:57.971933Z",
     "shell.execute_reply": "2022-10-20T15:55:57.971165Z"
    },
    "papermill": {
     "duration": 0.14426,
     "end_time": "2022-10-20T15:55:57.975160",
     "exception": false,
     "start_time": "2022-10-20T15:55:57.830900",
     "status": "completed"
    },
    "tags": []
   },
   "outputs": [
    {
     "name": "stdout",
     "output_type": "stream",
     "text": [
      "MAPE: 16.09745686399475 RMSE: 29.600330450238786\n",
      "MAPE: 3.902565774323355 RMSE: 6.122525114965094\n",
      "MAPE: 6.394826434010242 RMSE: 23.424275256614237\n",
      "Ave MAPE: 8.79828302410945 Ave RMSE: 19.715710273939372\n"
     ]
    }
   ],
   "source": [
    "data = tmp_df\n",
    "pred_len = 22\n",
    "name_list = tmp_df['Name'].unique()\n",
    "model = lightgbm.LGBMRegressor()\n",
    "\n",
    "pred_list = model_evaluation(data, name_list, model)"
   ]
  },
  {
   "cell_type": "markdown",
   "id": "fcffa8a2",
   "metadata": {
    "papermill": {
     "duration": 0.003042,
     "end_time": "2022-10-20T15:55:57.982013",
     "exception": false,
     "start_time": "2022-10-20T15:55:57.978971",
     "status": "completed"
    },
    "tags": []
   },
   "source": [
    "### 全体的にモデルを評価"
   ]
  },
  {
   "cell_type": "code",
   "execution_count": 6,
   "id": "73479bb7",
   "metadata": {
    "execution": {
     "iopub.execute_input": "2022-10-20T15:55:57.990596Z",
     "iopub.status.busy": "2022-10-20T15:55:57.989409Z",
     "iopub.status.idle": "2022-10-20T15:55:57.997324Z",
     "shell.execute_reply": "2022-10-20T15:55:57.996472Z"
    },
    "papermill": {
     "duration": 0.014606,
     "end_time": "2022-10-20T15:55:57.999719",
     "exception": false,
     "start_time": "2022-10-20T15:55:57.985113",
     "status": "completed"
    },
    "tags": []
   },
   "outputs": [],
   "source": [
    "def model_evaluation_once(data, model):\n",
    "      \n",
    "    train_df, test_df = data[:-pred_len*3], data[-pred_len*3:]\n",
    "    # test/train split\n",
    "    X = train_df.drop(['Date', 'Name', 'Price'], axis=1)\n",
    "    y = train_df['Price']\n",
    "    X_test = test_df.drop(['Date', 'Name', 'Price'], axis=1)\n",
    "    y_test = test_df['Price']\n",
    "    # model fit\n",
    "    model.fit(X, y)\n",
    "    y_pred = model.predict(X_test)\n",
    "    # put result into pred_df\n",
    "    pred_df = y_test.copy()\n",
    "    pred_df['Price'] = y_pred\n",
    "    # validation\n",
    "    mape = np.mean(np.abs( (y_pred-y_test)/y_test ))*100\n",
    "    rmse = np.sqrt( mean_squared_error(y_pred, y_test))\n",
    "    # print every training result\n",
    "    print('MAPE:',mape, 'RMSE:',rmse)\n",
    "        \n",
    "    return pred_df"
   ]
  },
  {
   "cell_type": "code",
   "execution_count": 7,
   "id": "066709ea",
   "metadata": {
    "execution": {
     "iopub.execute_input": "2022-10-20T15:55:58.008892Z",
     "iopub.status.busy": "2022-10-20T15:55:58.008251Z",
     "iopub.status.idle": "2022-10-20T15:55:58.059666Z",
     "shell.execute_reply": "2022-10-20T15:55:58.058501Z"
    },
    "papermill": {
     "duration": 0.058711,
     "end_time": "2022-10-20T15:55:58.062325",
     "exception": false,
     "start_time": "2022-10-20T15:55:58.003614",
     "status": "completed"
    },
    "tags": []
   },
   "outputs": [
    {
     "name": "stdout",
     "output_type": "stream",
     "text": [
      "MAPE: 9.871512687477578 RMSE: 26.153705562087776\n"
     ]
    }
   ],
   "source": [
    "data = tmp_df\n",
    "pred_len = 22\n",
    "model = lightgbm.LGBMRegressor()\n",
    "\n",
    "pred_df = model_evaluation_once(data, model)"
   ]
  }
 ],
 "metadata": {
  "kernelspec": {
   "display_name": "Python 3",
   "language": "python",
   "name": "python3"
  },
  "language_info": {
   "codemirror_mode": {
    "name": "ipython",
    "version": 3
   },
   "file_extension": ".py",
   "mimetype": "text/x-python",
   "name": "python",
   "nbconvert_exporter": "python",
   "pygments_lexer": "ipython3",
   "version": "3.7.12"
  },
  "papermill": {
   "default_parameters": {},
   "duration": 11.720716,
   "end_time": "2022-10-20T15:55:58.889681",
   "environment_variables": {},
   "exception": null,
   "input_path": "__notebook__.ipynb",
   "output_path": "__notebook__.ipynb",
   "parameters": {},
   "start_time": "2022-10-20T15:55:47.168965",
   "version": "2.3.4"
  }
 },
 "nbformat": 4,
 "nbformat_minor": 5
}
