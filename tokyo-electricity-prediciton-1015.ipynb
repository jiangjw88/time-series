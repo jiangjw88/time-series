{
 "cells": [
  {
   "cell_type": "code",
   "execution_count": 1,
   "id": "1b6c70ea",
   "metadata": {
    "execution": {
     "iopub.execute_input": "2022-10-14T19:52:13.376527Z",
     "iopub.status.busy": "2022-10-14T19:52:13.376000Z",
     "iopub.status.idle": "2022-10-14T19:52:14.704852Z",
     "shell.execute_reply": "2022-10-14T19:52:14.703277Z"
    },
    "papermill": {
     "duration": 1.339807,
     "end_time": "2022-10-14T19:52:14.708238",
     "exception": false,
     "start_time": "2022-10-14T19:52:13.368431",
     "status": "completed"
    },
    "tags": []
   },
   "outputs": [],
   "source": [
    "import pandas as pd\n",
    "import numpy as np\n",
    "import matplotlib.pyplot as plt\n",
    "import seaborn as sns\n",
    "sns.set(font='Yu Gothic')"
   ]
  },
  {
   "cell_type": "markdown",
   "id": "7acc6b36",
   "metadata": {
    "papermill": {
     "duration": 0.004365,
     "end_time": "2022-10-14T19:52:14.717749",
     "exception": false,
     "start_time": "2022-10-14T19:52:14.713384",
     "status": "completed"
    },
    "tags": []
   },
   "source": [
    "### データ読込"
   ]
  },
  {
   "cell_type": "code",
   "execution_count": 2,
   "id": "5511e245",
   "metadata": {
    "execution": {
     "iopub.execute_input": "2022-10-14T19:52:14.728934Z",
     "iopub.status.busy": "2022-10-14T19:52:14.728497Z",
     "iopub.status.idle": "2022-10-14T19:52:14.733028Z",
     "shell.execute_reply": "2022-10-14T19:52:14.731788Z"
    },
    "papermill": {
     "duration": 0.013076,
     "end_time": "2022-10-14T19:52:14.735448",
     "exception": false,
     "start_time": "2022-10-14T19:52:14.722372",
     "status": "completed"
    },
    "tags": []
   },
   "outputs": [],
   "source": [
    "# import os\n",
    "# import glob\n",
    "\n",
    "# ディレクトリ変更\n",
    "#os.chdir('../04_電力予測')"
   ]
  },
  {
   "cell_type": "code",
   "execution_count": 3,
   "id": "f03703e5",
   "metadata": {
    "execution": {
     "iopub.execute_input": "2022-10-14T19:52:14.746639Z",
     "iopub.status.busy": "2022-10-14T19:52:14.746152Z",
     "iopub.status.idle": "2022-10-14T19:52:14.751467Z",
     "shell.execute_reply": "2022-10-14T19:52:14.750297Z"
    },
    "papermill": {
     "duration": 0.013887,
     "end_time": "2022-10-14T19:52:14.753930",
     "exception": false,
     "start_time": "2022-10-14T19:52:14.740043",
     "status": "completed"
    },
    "tags": []
   },
   "outputs": [],
   "source": [
    "# df = pd.DataFrame(columns = [])\n",
    "\n",
    "# for i in glob.glob(\"*juyo-*\"):\n",
    "#     # オリジナルデータ読込\n",
    "#     tmp_origin = pd.read_csv(i, encoding='CP932')\n",
    "#     # 新しいデータフレーム\n",
    "#     tmp_new = pd.DataFrame(tmp_origin.values, columns=['実績'], index=tmp_origin.index)\n",
    "#     # 最初一行要らない\n",
    "#     tmp_new = tmp_new[1:]\n",
    "#     # 結合\n",
    "#     df = pd.concat([df, tmp_new])\n",
    "\n",
    "# # object形　→　int形\n",
    "# df['実績'] = df['実績'].astype('int')"
   ]
  },
  {
   "cell_type": "markdown",
   "id": "717927eb",
   "metadata": {
    "papermill": {
     "duration": 0.004176,
     "end_time": "2022-10-14T19:52:14.762629",
     "exception": false,
     "start_time": "2022-10-14T19:52:14.758453",
     "status": "completed"
    },
    "tags": []
   },
   "source": [
    "* インデックスをリセット（各カラムを確認するため）"
   ]
  },
  {
   "cell_type": "code",
   "execution_count": 4,
   "id": "6160d748",
   "metadata": {
    "execution": {
     "iopub.execute_input": "2022-10-14T19:52:14.773973Z",
     "iopub.status.busy": "2022-10-14T19:52:14.773449Z",
     "iopub.status.idle": "2022-10-14T19:52:14.778483Z",
     "shell.execute_reply": "2022-10-14T19:52:14.777284Z"
    },
    "papermill": {
     "duration": 0.013696,
     "end_time": "2022-10-14T19:52:14.780834",
     "exception": false,
     "start_time": "2022-10-14T19:52:14.767138",
     "status": "completed"
    },
    "tags": []
   },
   "outputs": [],
   "source": [
    "# df_reset = df.reset_index()\n",
    "# df_reset.columns = ['DATE', 'TIME', '実績']\n",
    "# df_reset['DATE'] = pd.to_datetime(df_reset['DATE'])\n",
    "# # df_reset['TIME'] = pd.to_datetime(df_reset['TIME'])\n",
    "# df_reset"
   ]
  },
  {
   "cell_type": "code",
   "execution_count": 5,
   "id": "3e6b3c61",
   "metadata": {
    "execution": {
     "iopub.execute_input": "2022-10-14T19:52:14.792158Z",
     "iopub.status.busy": "2022-10-14T19:52:14.791674Z",
     "iopub.status.idle": "2022-10-14T19:52:14.797373Z",
     "shell.execute_reply": "2022-10-14T19:52:14.796184Z"
    },
    "papermill": {
     "duration": 0.014518,
     "end_time": "2022-10-14T19:52:14.800047",
     "exception": false,
     "start_time": "2022-10-14T19:52:14.785529",
     "status": "completed"
    },
    "tags": []
   },
   "outputs": [],
   "source": [
    "# df_reset.to_csv('tokyo-electricity.csv', index=False)"
   ]
  },
  {
   "cell_type": "code",
   "execution_count": 6,
   "id": "91bc2550",
   "metadata": {
    "execution": {
     "iopub.execute_input": "2022-10-14T19:52:14.811420Z",
     "iopub.status.busy": "2022-10-14T19:52:14.810985Z",
     "iopub.status.idle": "2022-10-14T19:52:14.816527Z",
     "shell.execute_reply": "2022-10-14T19:52:14.815332Z"
    },
    "papermill": {
     "duration": 0.014282,
     "end_time": "2022-10-14T19:52:14.819082",
     "exception": false,
     "start_time": "2022-10-14T19:52:14.804800",
     "status": "completed"
    },
    "tags": []
   },
   "outputs": [],
   "source": [
    "# # 合計日数\n",
    "# df_reset['DATE'].nunique(), df_reset['DATE'].max(), df_reset['DATE'].min()"
   ]
  },
  {
   "cell_type": "code",
   "execution_count": 7,
   "id": "8c4f837c",
   "metadata": {
    "execution": {
     "iopub.execute_input": "2022-10-14T19:52:14.831136Z",
     "iopub.status.busy": "2022-10-14T19:52:14.830629Z",
     "iopub.status.idle": "2022-10-14T19:52:14.836815Z",
     "shell.execute_reply": "2022-10-14T19:52:14.834972Z"
    },
    "papermill": {
     "duration": 0.021092,
     "end_time": "2022-10-14T19:52:14.845219",
     "exception": false,
     "start_time": "2022-10-14T19:52:14.824127",
     "status": "completed"
    },
    "tags": []
   },
   "outputs": [],
   "source": [
    "# # 実際の日付差分\n",
    "# # 土日祝にかかわらず、データが発生することは分かった\n",
    "# df_reset['DATE'].max() - df_reset['DATE'].min()"
   ]
  },
  {
   "cell_type": "code",
   "execution_count": 8,
   "id": "1557992b",
   "metadata": {
    "execution": {
     "iopub.execute_input": "2022-10-14T19:52:14.857307Z",
     "iopub.status.busy": "2022-10-14T19:52:14.856685Z",
     "iopub.status.idle": "2022-10-14T19:52:14.862369Z",
     "shell.execute_reply": "2022-10-14T19:52:14.860966Z"
    },
    "papermill": {
     "duration": 0.014826,
     "end_time": "2022-10-14T19:52:14.865190",
     "exception": false,
     "start_time": "2022-10-14T19:52:14.850364",
     "status": "completed"
    },
    "tags": []
   },
   "outputs": [],
   "source": [
    "# # TIMEの種類を確認\n",
    "# # 一日中毎時間ごとにデータが発生している\n",
    "# df_reset['TIME'].unique()"
   ]
  },
  {
   "cell_type": "code",
   "execution_count": 9,
   "id": "b2695ca6",
   "metadata": {
    "execution": {
     "iopub.execute_input": "2022-10-14T19:52:14.883826Z",
     "iopub.status.busy": "2022-10-14T19:52:14.881900Z",
     "iopub.status.idle": "2022-10-14T19:52:14.889662Z",
     "shell.execute_reply": "2022-10-14T19:52:14.887893Z"
    },
    "papermill": {
     "duration": 0.022618,
     "end_time": "2022-10-14T19:52:14.893068",
     "exception": false,
     "start_time": "2022-10-14T19:52:14.870450",
     "status": "completed"
    },
    "tags": []
   },
   "outputs": [],
   "source": [
    "# df_reset['実績'].describe()"
   ]
  },
  {
   "cell_type": "markdown",
   "id": "7c242d4f",
   "metadata": {
    "papermill": {
     "duration": 0.005234,
     "end_time": "2022-10-14T19:52:14.904311",
     "exception": false,
     "start_time": "2022-10-14T19:52:14.899077",
     "status": "completed"
    },
    "tags": []
   },
   "source": [
    "### ちょっとだけ可視化"
   ]
  },
  {
   "cell_type": "code",
   "execution_count": 10,
   "id": "e82568d2",
   "metadata": {
    "execution": {
     "iopub.execute_input": "2022-10-14T19:52:14.917798Z",
     "iopub.status.busy": "2022-10-14T19:52:14.917113Z",
     "iopub.status.idle": "2022-10-14T19:52:14.922301Z",
     "shell.execute_reply": "2022-10-14T19:52:14.921234Z"
    },
    "papermill": {
     "duration": 0.015436,
     "end_time": "2022-10-14T19:52:14.925049",
     "exception": false,
     "start_time": "2022-10-14T19:52:14.909613",
     "status": "completed"
    },
    "tags": []
   },
   "outputs": [],
   "source": [
    "# df.plot.hist(bins=50, figsize=(10,10))"
   ]
  },
  {
   "cell_type": "code",
   "execution_count": 11,
   "id": "f220bc7c",
   "metadata": {
    "execution": {
     "iopub.execute_input": "2022-10-14T19:52:14.938732Z",
     "iopub.status.busy": "2022-10-14T19:52:14.937869Z",
     "iopub.status.idle": "2022-10-14T19:52:14.943243Z",
     "shell.execute_reply": "2022-10-14T19:52:14.942252Z"
    },
    "papermill": {
     "duration": 0.016567,
     "end_time": "2022-10-14T19:52:14.946968",
     "exception": false,
     "start_time": "2022-10-14T19:52:14.930401",
     "status": "completed"
    },
    "tags": []
   },
   "outputs": [],
   "source": [
    "# df.plot.box(figsize=(10,10))"
   ]
  },
  {
   "cell_type": "code",
   "execution_count": 12,
   "id": "b43cdc07",
   "metadata": {
    "execution": {
     "iopub.execute_input": "2022-10-14T19:52:14.963470Z",
     "iopub.status.busy": "2022-10-14T19:52:14.962177Z",
     "iopub.status.idle": "2022-10-14T19:52:14.977870Z",
     "shell.execute_reply": "2022-10-14T19:52:14.975285Z"
    },
    "papermill": {
     "duration": 0.029434,
     "end_time": "2022-10-14T19:52:14.981879",
     "exception": false,
     "start_time": "2022-10-14T19:52:14.952445",
     "status": "completed"
    },
    "tags": []
   },
   "outputs": [],
   "source": [
    "# df.plot(figsize=(30,10))"
   ]
  },
  {
   "cell_type": "code",
   "execution_count": 13,
   "id": "459b3315",
   "metadata": {
    "execution": {
     "iopub.execute_input": "2022-10-14T19:52:14.999128Z",
     "iopub.status.busy": "2022-10-14T19:52:14.997950Z",
     "iopub.status.idle": "2022-10-14T19:52:15.003907Z",
     "shell.execute_reply": "2022-10-14T19:52:15.002607Z"
    },
    "papermill": {
     "duration": 0.018351,
     "end_time": "2022-10-14T19:52:15.006996",
     "exception": false,
     "start_time": "2022-10-14T19:52:14.988645",
     "status": "completed"
    },
    "tags": []
   },
   "outputs": [],
   "source": [
    "# df.rolling(24).mean().plot(figsize=(30,10))"
   ]
  },
  {
   "cell_type": "code",
   "execution_count": 14,
   "id": "954139a2",
   "metadata": {
    "execution": {
     "iopub.execute_input": "2022-10-14T19:52:15.022439Z",
     "iopub.status.busy": "2022-10-14T19:52:15.021383Z",
     "iopub.status.idle": "2022-10-14T19:52:15.027067Z",
     "shell.execute_reply": "2022-10-14T19:52:15.025751Z"
    },
    "papermill": {
     "duration": 0.017706,
     "end_time": "2022-10-14T19:52:15.030841",
     "exception": false,
     "start_time": "2022-10-14T19:52:15.013135",
     "status": "completed"
    },
    "tags": []
   },
   "outputs": [],
   "source": [
    "# df.rolling(120).mean().plot(figsize=(30,10))"
   ]
  },
  {
   "cell_type": "markdown",
   "id": "9de25786",
   "metadata": {
    "papermill": {
     "duration": 0.005182,
     "end_time": "2022-10-14T19:52:15.042116",
     "exception": false,
     "start_time": "2022-10-14T19:52:15.036934",
     "status": "completed"
    },
    "tags": []
   },
   "source": [
    "### 時間特徴量作成"
   ]
  },
  {
   "cell_type": "code",
   "execution_count": 15,
   "id": "f79d0f20",
   "metadata": {
    "execution": {
     "iopub.execute_input": "2022-10-14T19:52:15.055776Z",
     "iopub.status.busy": "2022-10-14T19:52:15.054729Z",
     "iopub.status.idle": "2022-10-14T19:52:15.060927Z",
     "shell.execute_reply": "2022-10-14T19:52:15.059377Z"
    },
    "papermill": {
     "duration": 0.016417,
     "end_time": "2022-10-14T19:52:15.063891",
     "exception": false,
     "start_time": "2022-10-14T19:52:15.047474",
     "status": "completed"
    },
    "tags": []
   },
   "outputs": [],
   "source": [
    "# df =  pd.read_csv('./tokyo-electricity.csv')\n",
    "# df"
   ]
  }
 ],
 "metadata": {
  "kernelspec": {
   "display_name": "Python 3",
   "language": "python",
   "name": "python3"
  },
  "language_info": {
   "codemirror_mode": {
    "name": "ipython",
    "version": 3
   },
   "file_extension": ".py",
   "mimetype": "text/x-python",
   "name": "python",
   "nbconvert_exporter": "python",
   "pygments_lexer": "ipython3",
   "version": "3.7.12"
  },
  "papermill": {
   "default_parameters": {},
   "duration": 13.222151,
   "end_time": "2022-10-14T19:52:15.895251",
   "environment_variables": {},
   "exception": null,
   "input_path": "__notebook__.ipynb",
   "output_path": "__notebook__.ipynb",
   "parameters": {},
   "start_time": "2022-10-14T19:52:02.673100",
   "version": "2.3.4"
  }
 },
 "nbformat": 4,
 "nbformat_minor": 5
}
